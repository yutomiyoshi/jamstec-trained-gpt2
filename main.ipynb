{
 "cells": [
  {
   "cell_type": "code",
   "execution_count": 1,
   "id": "08f17e77-4f03-4ff4-8ab3-71272cab4b37",
   "metadata": {},
   "outputs": [
    {
     "name": "stderr",
     "output_type": "stream",
     "text": [
      "You are using the default legacy behaviour of the <class 'transformers.models.t5.tokenization_t5.T5Tokenizer'>. This is expected, and simply means that the `legacy` (previous) behavior will be used so nothing changes for you. If you want to use the new behaviour, set `legacy=False`. This should only be set if you understand what it means, and thoroughly read the reason why this was added as explained in https://github.com/huggingface/transformers/pull/24565\n"
     ]
    }
   ],
   "source": [
    "from transformers import T5Tokenizer,AutoModelForCausalLM\n",
    "\n",
    "tokenizer = T5Tokenizer.from_pretrained(\"rinna/japanese-gpt2-small\")\n",
    "model = AutoModelForCausalLM.from_pretrained(\"rinna/japanese-gpt2-small\")"
   ]
  },
  {
   "cell_type": "code",
   "execution_count": 2,
   "id": "3e9d09ff-9267-45cc-85fd-4fee2b775b78",
   "metadata": {},
   "outputs": [],
   "source": [
    "train_data_path = \"docs.txt\""
   ]
  },
  {
   "cell_type": "code",
   "execution_count": 3,
   "id": "c957d171-37e4-435d-b0d6-f583494303c1",
   "metadata": {},
   "outputs": [
    {
     "name": "stderr",
     "output_type": "stream",
     "text": [
      "/usr/local/lib/python3.11/dist-packages/transformers/data/datasets/language_modeling.py:53: FutureWarning: This dataset will be removed from the library soon, preprocessing should be handled with the 🤗 Datasets library. You can have a look at this example script for pointers: https://github.com/huggingface/transformers/blob/main/examples/pytorch/language-modeling/run_mlm.py\n",
      "  warnings.warn(\n"
     ]
    }
   ],
   "source": [
    "from transformers import TextDataset, DataCollatorForLanguageModeling, Trainer, TrainingArguments, AutoModelWithLMHead\n",
    "\n",
    "#データセットの設定\n",
    "train_dataset = TextDataset(\n",
    "    tokenizer = tokenizer,\n",
    "    file_path = train_data_path,\n",
    "    block_size = 128 #文章の長さを揃える必要がある\n",
    ")\n",
    "\n",
    "#データの入力に関する設定\n",
    "data_collator = DataCollatorForLanguageModeling(\n",
    "    tokenizer=tokenizer,\n",
    "    mlm= False\n",
    ")\n",
    "\n",
    "# 訓練に関する設定\n",
    "training_args = TrainingArguments(\n",
    "    output_dir=\"./result\",  # 関連ファイルを保存するパス\n",
    "    overwrite_output_dir=True,  # ファイルを上書きするかどうか\n",
    "    num_train_epochs=3,  # エポック数\n",
    "    per_device_train_batch_size=8,  # バッチサイズ\n",
    "    logging_steps=100,  # 途中経過を表示する間隔\n",
    "    save_steps=800  # モデルを保存する間隔\n",
    ")\n",
    "\n",
    "#トレーナーの設定\n",
    "trainer = Trainer(\n",
    "    model =model,\n",
    "    args=training_args,\n",
    "    data_collator = data_collator,\n",
    "    train_dataset = train_dataset\n",
    ")"
   ]
  },
  {
   "cell_type": "code",
   "execution_count": 4,
   "id": "6cce5989-9d4c-42f0-ae0d-831bdda0b9f1",
   "metadata": {},
   "outputs": [
    {
     "data": {
      "text/html": [
       "\n",
       "    <div>\n",
       "      \n",
       "      <progress value='210' max='210' style='width:300px; height:20px; vertical-align: middle;'></progress>\n",
       "      [210/210 00:30, Epoch 3/3]\n",
       "    </div>\n",
       "    <table border=\"1\" class=\"dataframe\">\n",
       "  <thead>\n",
       " <tr style=\"text-align: left;\">\n",
       "      <th>Step</th>\n",
       "      <th>Training Loss</th>\n",
       "    </tr>\n",
       "  </thead>\n",
       "  <tbody>\n",
       "    <tr>\n",
       "      <td>100</td>\n",
       "      <td>3.603800</td>\n",
       "    </tr>\n",
       "    <tr>\n",
       "      <td>200</td>\n",
       "      <td>3.108400</td>\n",
       "    </tr>\n",
       "  </tbody>\n",
       "</table><p>"
      ],
      "text/plain": [
       "<IPython.core.display.HTML object>"
      ]
     },
     "metadata": {},
     "output_type": "display_data"
    },
    {
     "name": "stdout",
     "output_type": "stream",
     "text": [
      "CPU times: user 26 s, sys: 2.26 s, total: 28.2 s\n",
      "Wall time: 31.6 s\n"
     ]
    },
    {
     "data": {
      "text/plain": [
       "TrainOutput(global_step=210, training_loss=3.341394179207938, metrics={'train_runtime': 31.477, 'train_samples_per_second': 52.8, 'train_steps_per_second': 6.672, 'total_flos': 108566839296000.0, 'train_loss': 3.341394179207938, 'epoch': 3.0})"
      ]
     },
     "execution_count": 4,
     "metadata": {},
     "output_type": "execute_result"
    }
   ],
   "source": [
    "%%time\n",
    "trainer.train()"
   ]
  },
  {
   "cell_type": "code",
   "execution_count": 7,
   "id": "b33747f2-4649-46b3-99f3-7433f03469dc",
   "metadata": {},
   "outputs": [],
   "source": [
    "def getarate_sentences(seed_sentence):\n",
    "    x = tokenizer.encode(seed_sentence, return_tensors=\"pt\", \n",
    "    add_special_tokens=False)  # 入力\n",
    "    x = x.cuda()  # GPU対応\n",
    "    y = model.generate(x, #入力\n",
    "                       min_length=50,  # 文章の最小長\n",
    "                       max_length=100,  # 文章の最大長\n",
    "                       do_sample=True,   # 次の単語を確率で選ぶ\n",
    "                       top_k=50, # Top-Kサンプリング\n",
    "                       top_p=0.95,  # Top-pサンプリング\n",
    "                       temperature=1.2,  # 確率分布の調整\n",
    "                       num_return_sequences=3,  # 生成する文章の数\n",
    "                       pad_token_id=tokenizer.pad_token_id,  # パディングのトークンID\n",
    "                       bos_token_id=tokenizer.bos_token_id,  # テキスト先頭のトークンID\n",
    "                       eos_token_id=tokenizer.eos_token_id,  # テキスト終端のトークンID\n",
    "                       # bad_word_ids=[[tokenizer.unk_token_id]]  # 生成が許可されないトークンID\n",
    "                       )  \n",
    "    generated_sentences = tokenizer.batch_decode(y, skip_special_tokens=True)  # 特殊トークンをスキップして文章に変換\n",
    "    return generated_sentences"
   ]
  },
  {
   "cell_type": "code",
   "execution_count": 8,
   "id": "66439ebb-0b5d-422b-9c15-f7115b06fc33",
   "metadata": {},
   "outputs": [
    {
     "name": "stdout",
     "output_type": "stream",
     "text": [
      "海洋開発とは「生物が、生物活動を通じて獲得可能な生態系機能を維持し、環境中で生き続けるシステムとしての基礎的機能」を育むことを提案するものであり、生態学の普遍的な知見を応用・再認識することにより生命の起源を明らかにする新たな一歩を開く重要な問いであり、さらに生物進化の科学の基盤である自然適応についての研究が推進されるべきであり、生態学的な生命発展の可能性を考える一助になると期待されます。さらに,微生物を含む生態学的進化がもたらす社会変動\n",
      "海洋開発とは、気候変化や水の変化など様々な要因によって海洋環境が変化する現象のことを指し、2030年代に到来する温暖化の影響では気候変化が起きやすくなっていることを裏付ける貴重な証拠と言えます。近年、深海環境の深海底で、海底堆積物が二酸化炭素を吸収しながら海底が冷却することにより溶け出す過程が見つかっており、それが温暖化の進行に深く関与していることが示唆されています。このような背景から、海洋開発がもたらすさまざまな課題()に対して\n",
      "海洋開発とは、海洋の気候の力学的な構成の変化として捉えられてきた温暖化と水循環の変化に起因して、生物活動の促進を促していることが知られています(図4, 6)。つまり、気候変動が海洋生態系の応答性を向上させ、生態系をどのように回復していくかということが、海洋生態系にとっては非常に重要であることを意味し、今後の水循環・海洋システムの変動にとって重要な課題であるとの認識から、本研究では深海海洋調査船「しんかい6500」「しんかい\n"
     ]
    }
   ],
   "source": [
    "seed_sentence = \"海洋開発とは\"  \n",
    "generated_sentences = getarate_sentences(seed_sentence)  # 生成された文章\n",
    "for sentence in generated_sentences:\n",
    "    print(sentence)"
   ]
  },
  {
   "cell_type": "code",
   "execution_count": null,
   "id": "7d6cc2c8-65c8-4fd9-b3e4-01d6333df182",
   "metadata": {},
   "outputs": [],
   "source": []
  }
 ],
 "metadata": {
  "kernelspec": {
   "display_name": "Python 3 (ipykernel)",
   "language": "python",
   "name": "python3"
  },
  "language_info": {
   "codemirror_mode": {
    "name": "ipython",
    "version": 3
   },
   "file_extension": ".py",
   "mimetype": "text/x-python",
   "name": "python",
   "nbconvert_exporter": "python",
   "pygments_lexer": "ipython3",
   "version": "3.11.10"
  }
 },
 "nbformat": 4,
 "nbformat_minor": 5
}
