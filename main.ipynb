{
 "cells": [
  {
   "cell_type": "code",
   "execution_count": null,
   "id": "08f17e77-4f03-4ff4-8ab3-71272cab4b37",
   "metadata": {},
   "outputs": [],
   "source": [
    "from transformers import T5Tokenizer,AutoModelForCausalLM\n",
    "\n",
    "tokenizer = T5Tokenizer.from_pretrained(\"rinna/japanese-gpt2-small\")\n",
    "model = AutoModelForCausalLM.from_pretrained(\"rinna/japanese-gpt2-small\")"
   ]
  },
  {
   "cell_type": "code",
   "execution_count": null,
   "id": "3e9d09ff-9267-45cc-85fd-4fee2b775b78",
   "metadata": {},
   "outputs": [],
   "source": [
    "train_data_path = \"docs_dummy.txt\""
   ]
  },
  {
   "cell_type": "code",
   "execution_count": null,
   "id": "c957d171-37e4-435d-b0d6-f583494303c1",
   "metadata": {},
   "outputs": [],
   "source": [
    "from transformers import TextDataset, DataCollatorForLanguageModeling, Trainer, TrainingArguments, AutoModelWithLMHead\n",
    "\n",
    "#データセットの設定\n",
    "train_dataset = TextDataset(\n",
    "    tokenizer = tokenizer,\n",
    "    file_path = train_data_path,\n",
    "    block_size = 128 #文章の長さを揃える必要がある\n",
    ")\n",
    "\n",
    "#データの入力に関する設定\n",
    "data_collator = DataCollatorForLanguageModeling(\n",
    "    tokenizer=tokenizer,\n",
    "    mlm= False\n",
    ")\n",
    "\n",
    "# 訓練に関する設定\n",
    "training_args = TrainingArguments(\n",
    "    output_dir=\"./result\",  # 関連ファイルを保存するパス\n",
    "    overwrite_output_dir=True,  # ファイルを上書きするかどうか\n",
    "    num_train_epochs=10,  # エポック数\n",
    "    per_device_train_batch_size=16,  # バッチサイズ\n",
    "    logging_steps=100,  # 途中経過を表示する間隔\n",
    "    save_steps=800  # モデルを保存する間隔\n",
    ")\n",
    "\n",
    "#トレーナーの設定\n",
    "trainer = Trainer(\n",
    "    model =model,\n",
    "    args=training_args,\n",
    "    data_collator = data_collator,\n",
    "    train_dataset = train_dataset\n",
    ")"
   ]
  },
  {
   "cell_type": "code",
   "execution_count": null,
   "id": "6cce5989-9d4c-42f0-ae0d-831bdda0b9f1",
   "metadata": {},
   "outputs": [],
   "source": [
    "%%time\n",
    "trainer.train()"
   ]
  },
  {
   "cell_type": "code",
   "execution_count": null,
   "id": "b33747f2-4649-46b3-99f3-7433f03469dc",
   "metadata": {},
   "outputs": [],
   "source": [
    "def getarate_sentences(seed_sentence):\n",
    "    x = tokenizer.encode(seed_sentence, return_tensors=\"pt\", \n",
    "    add_special_tokens=False)  # 入力\n",
    "    x = x.cuda()  # GPU対応\n",
    "    y = model.generate(x, #入力\n",
    "                       min_length=50,  # 文章の最小長\n",
    "                       max_length=100,  # 文章の最大長\n",
    "                       do_sample=True,   # 次の単語を確率で選ぶ\n",
    "                       top_k=50, # Top-Kサンプリング\n",
    "                       top_p=0.95,  # Top-pサンプリング\n",
    "                       temperature=1.2,  # 確率分布の調整\n",
    "                       num_return_sequences=3,  # 生成する文章の数\n",
    "                       pad_token_id=tokenizer.pad_token_id,  # パディングのトークンID\n",
    "                       bos_token_id=tokenizer.bos_token_id,  # テキスト先頭のトークンID\n",
    "                       eos_token_id=tokenizer.eos_token_id,  # テキスト終端のトークンID\n",
    "                       # bad_word_ids=[[tokenizer.unk_token_id]]  # 生成が許可されないトークンID\n",
    "                       )  \n",
    "    generated_sentences = tokenizer.batch_decode(y, skip_special_tokens=True)  # 特殊トークンをスキップして文章に変換\n",
    "    return generated_sentences"
   ]
  },
  {
   "cell_type": "code",
   "execution_count": null,
   "id": "66439ebb-0b5d-422b-9c15-f7115b06fc33",
   "metadata": {
    "scrolled": true
   },
   "outputs": [],
   "source": [
    "seed_sentence = \"海洋調査の意義について論じてください。\"  \n",
    "generated_sentences = getarate_sentences(seed_sentence)  # 生成された文章\n",
    "for sentence in generated_sentences:\n",
    "    print(sentence)"
   ]
  },
  {
   "cell_type": "code",
   "execution_count": null,
   "id": "7d6cc2c8-65c8-4fd9-b3e4-01d6333df182",
   "metadata": {},
   "outputs": [],
   "source": []
  }
 ],
 "metadata": {
  "kernelspec": {
   "display_name": "Python 3 (ipykernel)",
   "language": "python",
   "name": "python3"
  },
  "language_info": {
   "codemirror_mode": {
    "name": "ipython",
    "version": 3
   },
   "file_extension": ".py",
   "mimetype": "text/x-python",
   "name": "python",
   "nbconvert_exporter": "python",
   "pygments_lexer": "ipython3",
   "version": "3.11.10"
  }
 },
 "nbformat": 4,
 "nbformat_minor": 5
}
